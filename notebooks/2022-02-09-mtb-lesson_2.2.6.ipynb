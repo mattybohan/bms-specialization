{
 "cells": [
  {
   "cell_type": "code",
   "execution_count": 1,
   "metadata": {},
   "outputs": [],
   "source": [
    "import scipy.io\n",
    "import matplotlib.pyplot as plt\n",
    "import pandas as pd\n",
    "import numpy as np\n",
    "from scipy.interpolate import interp1d"
   ]
  },
  {
   "cell_type": "code",
   "execution_count": 60,
   "metadata": {},
   "outputs": [],
   "source": [
    "def load_data(temps=[-25,-15,-5,5,15,25,35,45]):\n",
    "    \n",
    "    data = dict()\n",
    "    \n",
    "    for temp in temps:\n",
    "        \n",
    "        if temp < 0:\n",
    "            filename = '../data/P14_OCV/P14_OCV_N%d.mat' % (abs(temp))\n",
    "        else:\n",
    "            filename = '../data/P14_OCV/P14_OCV_P%d.mat' % (abs(temp))\n",
    "        \n",
    "        data[temp] = scipy.io.loadmat(filename, simplify_cells=True)['OCVData']\n",
    "        \n",
    "        print('Loaded: ',filename)\n",
    "        \n",
    "    return data"
   ]
  },
  {
   "cell_type": "code",
   "execution_count": 216,
   "metadata": {},
   "outputs": [],
   "source": [
    "def process_OCV25(data):\n",
    "    \n",
    "    scripts = ['script1','script2','script3','script4']\n",
    "    total_discharge = 0\n",
    "    total_charge = 0\n",
    "\n",
    "    for script in scripts: \n",
    "        total_discharge += data[25][script]['disAh'][-1]\n",
    "        total_charge += data[25][script]['chgAh'][-1]\n",
    "        \n",
    "    eta_25 = total_discharge / total_charge\n",
    "    \n",
    "    Q_25 = data[25]['script1']['disAh'][-1] \\\n",
    "     + data[25]['script2']['disAh'][-1] \\\n",
    "     - eta_25*data[25]['script1']['chgAh'][-1] \\\n",
    "     - eta_25*data[25]['script2']['chgAh'][-1]\n",
    "    \n",
    "    df_1 = pd.DataFrame(data[25]['script1'])\n",
    "    \n",
    "    # Beginning of discharge\n",
    "    IR1Da = df_1[df_1['step'] == 1].tail(1).voltage.values[0] \\\n",
    "            - df_1[df_1['step'] == 2].head(1).voltage.values[0]\n",
    "    \n",
    "    # End of discharge\n",
    "    IR2Da = df_1[df_1['step'] == 3].head(1).voltage.values[0] \\\n",
    "            - df_1[df_1['step'] == 2].tail(1).voltage.values[0]\n",
    "    \n",
    "    IndC = np.where(data[25]['script3']['step'] == 2)[0]\n",
    "    \n",
    "    # Beginning of charge\n",
    "    IR1Ca = data[25]['script3']['voltage'][IndC[0]] \\\n",
    "        - data[25]['script3']['voltage'][IndC[0]-1]\n",
    "    \n",
    "    # End of charge\n",
    "    IR2Ca = data[25]['script3']['voltage'][IndC[-1]] \\\n",
    "        - data[25]['script3']['voltage'][IndC[-1]+1]\n",
    "    \n",
    "    # These are just some sanity checks to keep these correction factors \n",
    "    # from getting too large in case of data issues \n",
    "    IR1D = min(IR1Da,2*IR2Ca)\n",
    "    IR2D = min(IR2Da,2*IR1Ca)\n",
    "    IR1C = min(IR1Ca,2*IR2Da)\n",
    "    IR2C = min(IR2Ca,2*IR1Da)\n",
    "    \n",
    "    # Discharge voltage & SOC curves\n",
    "    IndD = np.where(data[25]['script1']['step'] == 2)[0]\n",
    "    blend = np.linspace(0,1,len(IndD))\n",
    "    IRblend = IR1D + (IR2D-IR1D)*blend\n",
    "    disV = data[25]['script1']['voltage'][IndD] + IRblend\n",
    "\n",
    "    # Z = State of Charge\n",
    "    disZ = 1 - data[25]['script1']['disAh'][IndD]/Q_25\n",
    "    disZ = disZ + (1 - disZ[0])\n",
    "    \n",
    "    assert disZ.shape == disV.shape\n",
    "    \n",
    "    # Charge voltage & SOC curves\n",
    "    blend = np.linspace(0,1,len(IndC))\n",
    "    IRblend = IR1C + (IR2C-IR1C)*blend\n",
    "    chgV = data[25]['script3']['voltage'][IndC] - IRblend\n",
    "    chgZ = data[25]['script3']['chgAh'][IndC]/Q_25\n",
    "    chgZ = chgZ - chgZ[0]\n",
    "    \n",
    "    assert chgZ.shape == chgV.shape\n",
    "    \n",
    "    charge_interpolate = interp1d(chgZ,chgV)\n",
    "    discharge_interpolate = interp1d(disZ,disV)\n",
    "    \n",
    "    deltaV50 = charge_interpolate(0.5) - discharge_interpolate(0.5)\n",
    "    \n",
    "    # Select points on charge curve where SOC < 50%. \n",
    "    ind = np.where(chgZ < 0.5)[0]\n",
    "    vChg = chgV[ind] - chgZ[ind]*deltaV50\n",
    "    zChg = chgZ[ind]\n",
    "    \n",
    "    # Select points on charge curve where SOC > 50%.\n",
    "    ind = np.where(disZ > 0.5)[0]\n",
    "    vDis = (disV[ind] + ((1 - disZ[ind])*deltaV50))[::-1]\n",
    "    zDis = (disZ[ind])[::-1]\n",
    "    \n",
    "    SOC = np.arange(0,1,0.005)\n",
    "    rawocv_interpolation = interp1d(np.concatenate([zChg,zDis]), \\\n",
    "                            np.concatenate([vChg,vDis]), \\\n",
    "                            kind='linear',fill_value=\"extrapolate\")\n",
    "    rawocv = rawocv_interpolation(SOC)\n",
    "    \n",
    "    data[25]['SOC'] = SOC\n",
    "    data[25]['rawocv'] = rawocv\n",
    "    data[25]['Q'] = Q_25\n",
    "    data[25]['eta'] = eta_25\n",
    "    \n",
    "    return data"
   ]
  },
  {
   "cell_type": "code",
   "execution_count": 218,
   "metadata": {},
   "outputs": [],
   "source": [
    "def process_OCV(data):\n",
    "    \n",
    "    scripts = ['script1','script2','script3','script4']\n",
    "    eta_25 = data[25]['eta']\n",
    "    \n",
    "    for temp in list(data.keys()):\n",
    "\n",
    "        if temp == 25:\n",
    "            pass\n",
    "        \n",
    "        else:\n",
    "            total_discharge = 0\n",
    "            total_charge = 0\n",
    "\n",
    "            for script in scripts: \n",
    "                total_discharge += data[temp][script]['disAh'][-1]\n",
    "                total_charge += data[temp][script]['chgAh'][-1]\n",
    "\n",
    "            eta_t = total_discharge / total_charge\n",
    "\n",
    "            Q_t = data[temp]['script1']['disAh'][-1] \\\n",
    "             + data[temp]['script2']['disAh'][-1] \\\n",
    "             - eta_25*data[temp]['script1']['chgAh'][-1] \\\n",
    "             - eta_25*data[temp]['script2']['chgAh'][-1]\n",
    "\n",
    "            df_1 = pd.DataFrame(data[temp]['script1'])\n",
    "\n",
    "            # Beginning of discharge\n",
    "            IR1Da = df_1[df_1['step'] == 1].tail(1).voltage.values[0] \\\n",
    "                    - df_1[df_1['step'] == 2].head(1).voltage.values[0]\n",
    "\n",
    "            # End of discharge\n",
    "            IR2Da = df_1[df_1['step'] == 3].head(1).voltage.values[0] \\\n",
    "                    - df_1[df_1['step'] == 2].tail(1).voltage.values[0]\n",
    "\n",
    "            IndC = np.where(data[temp]['script3']['step'] == 2)[0]\n",
    "\n",
    "            # Beginning of charge\n",
    "            IR1Ca = data[temp]['script3']['voltage'][IndC[0]] \\\n",
    "                - data[temp]['script3']['voltage'][IndC[0]-1]\n",
    "\n",
    "            # End of charge\n",
    "            IR2Ca = data[temp]['script3']['voltage'][IndC[-1]] \\\n",
    "                - data[temp]['script3']['voltage'][IndC[-1]+1]\n",
    "\n",
    "            # These are just some sanity checks to keep these correction factors \n",
    "            # from getting too large in case of data issues \n",
    "            IR1D = min(IR1Da,2*IR2Ca)\n",
    "            IR2D = min(IR2Da,2*IR1Ca)\n",
    "            IR1C = min(IR1Ca,2*IR2Da)\n",
    "            IR2C = min(IR2Ca,2*IR1Da)\n",
    "\n",
    "            # Discharge voltage & SOC curves\n",
    "            IndD = np.where(data[temp]['script1']['step'] == 2)[0]\n",
    "            blend = np.linspace(0,1,len(IndD))\n",
    "            IRblend = IR1D + (IR2D-IR1D)*blend\n",
    "            disV = data[temp]['script1']['voltage'][IndD] + IRblend\n",
    "\n",
    "            # Z = State of Charge\n",
    "            disZ = 1 - data[temp]['script1']['disAh'][IndD]/Q_t\n",
    "            disZ = disZ + (1 - disZ[0])\n",
    "\n",
    "            assert disZ.shape == disV.shape\n",
    "\n",
    "            # Charge voltage & SOC curves\n",
    "            blend = np.linspace(0,1,len(IndC))\n",
    "            IRblend = IR1C + (IR2C-IR1C)*blend\n",
    "            chgV = data[temp]['script3']['voltage'][IndC] - IRblend\n",
    "            chgZ = data[temp]['script3']['chgAh'][IndC]/Q_t\n",
    "            chgZ = chgZ - chgZ[0]\n",
    "\n",
    "            assert chgZ.shape == chgV.shape\n",
    "\n",
    "            charge_interpolate = interp1d(chgZ,chgV)\n",
    "            discharge_interpolate = interp1d(disZ,disV)\n",
    "\n",
    "            deltaV50 = charge_interpolate(0.5) - discharge_interpolate(0.5)\n",
    "\n",
    "            # Select points on charge curve where SOC < 50%. \n",
    "            ind = np.where(chgZ < 0.5)[0]\n",
    "            vChg = chgV[ind] - chgZ[ind]*deltaV50\n",
    "            zChg = chgZ[ind]\n",
    "\n",
    "            # Select points on charge curve where SOC > 50%.\n",
    "            ind = np.where(disZ > 0.5)[0]\n",
    "            vDis = (disV[ind] + ((1 - disZ[ind])*deltaV50))[::-1]\n",
    "            zDis = (disZ[ind])[::-1]\n",
    "\n",
    "            SOC = np.arange(0,1,0.005)\n",
    "            rawocv_interpolation = interp1d(np.concatenate([zChg,zDis]), \\\n",
    "                                    np.concatenate([vChg,vDis]), \\\n",
    "                                    kind='linear',fill_value=\"extrapolate\")\n",
    "            rawocv = rawocv_interpolation(SOC)\n",
    "\n",
    "            data[temp]['SOC'] = SOC\n",
    "            data[temp]['rawocv'] = rawocv\n",
    "            data[temp]['Q'] = Q_t\n",
    "            data[temp]['eta'] = eta_t\n",
    "            \n",
    "    return data\n",
    "    "
   ]
  },
  {
   "cell_type": "code",
   "execution_count": 219,
   "metadata": {},
   "outputs": [
    {
     "name": "stdout",
     "output_type": "stream",
     "text": [
      "Loaded:  ../data/P14_OCV/P14_OCV_N25.mat\n",
      "Loaded:  ../data/P14_OCV/P14_OCV_N15.mat\n",
      "Loaded:  ../data/P14_OCV/P14_OCV_N5.mat\n",
      "Loaded:  ../data/P14_OCV/P14_OCV_P5.mat\n",
      "Loaded:  ../data/P14_OCV/P14_OCV_P15.mat\n",
      "Loaded:  ../data/P14_OCV/P14_OCV_P25.mat\n",
      "Loaded:  ../data/P14_OCV/P14_OCV_P35.mat\n",
      "Loaded:  ../data/P14_OCV/P14_OCV_P45.mat\n"
     ]
    }
   ],
   "source": [
    "exp_data = load_data()"
   ]
  },
  {
   "cell_type": "code",
   "execution_count": 220,
   "metadata": {},
   "outputs": [],
   "source": [
    "data = process_OCV25(exp_data)"
   ]
  },
  {
   "cell_type": "code",
   "execution_count": 221,
   "metadata": {},
   "outputs": [],
   "source": [
    "data = process_OCV(data)"
   ]
  },
  {
   "cell_type": "code",
   "execution_count": 226,
   "metadata": {},
   "outputs": [
    {
     "data": {
      "text/plain": [
       "Text(0.5, 0, 'State of Charge')"
      ]
     },
     "execution_count": 226,
     "metadata": {},
     "output_type": "execute_result"
    },
    {
     "data": {
      "image/png": "[encoded data removed]",
      "text/plain": [
       "<Figure size 720x504 with 1 Axes>"
      ]
     },
     "metadata": {
      "needs_background": "light"
     },
     "output_type": "display_data"
    }
   ],
   "source": [
    "plt.figure(figsize=(10,7))\n",
    "for t in list(data.keys()):\n",
    "    plt.plot(data[t]['SOC'],data[t]['rawocv'],label=t)\n",
    "plt.legend()\n",
    "plt.ylabel('Voltage (V)',fontsize=16)\n",
    "plt.xlabel('State of Charge',fontsize=16)"
   ]
  },
  {
   "cell_type": "code",
   "execution_count": 324,
   "metadata": {},
   "outputs": [],
   "source": [
    "def create_lookup_table(data):\n",
    "\n",
    "    # Use only data where T > 0C as cold temperate data \n",
    "    temps = [x for x in data.keys() if x > 0]\n",
    "    num_temps = len(temps)\n",
    "    ocv_size = data[25]['rawocv'].shape[0]\n",
    "\n",
    "    ocv_arr = np.ones((num_temps,ocv_size))\n",
    "    temp_arr = np.ones((num_temps,1))\n",
    "\n",
    "    for ind,temp in enumerate(temps):\n",
    "        temp_arr[ind] = temp\n",
    "        ocv_arr[ind] = data[temp]['rawocv']\n",
    "\n",
    "    temp_arr = np.hstack((np.ones((len(temp_arr),1)),temp_arr)) \n",
    "\n",
    "    # Solve linear set of equations, A*x = y\n",
    "    A = temp_arr\n",
    "    y = ocv_arr\n",
    "    \n",
    "    OCV0, OCVrel = np.linalg.lstsq(A, y, rcond=None)[0]\n",
    "    \n",
    "    return OCV0, OCVrel"
   ]
  },
  {
   "cell_type": "code",
   "execution_count": 325,
   "metadata": {},
   "outputs": [],
   "source": [
    "OCV0, OCVrel = create_lookup_table(data)"
   ]
  },
  {
   "cell_type": "code",
   "execution_count": 320,
   "metadata": {},
   "outputs": [],
   "source": [
    "T = -5\n",
    "OCV_T = OCV0 + T*OCVrel"
   ]
  },
  {
   "cell_type": "code",
   "execution_count": 309,
   "metadata": {},
   "outputs": [],
   "source": [
    "testSOC = 0.55 #% for example. Change \"0.85\" to the SOC of interest\n",
    "testOCV = interp1d(data[5]['SOC'],OCV_T)"
   ]
  },
  {
   "cell_type": "code",
   "execution_count": 310,
   "metadata": {},
   "outputs": [
    {
     "data": {
      "text/plain": [
       "array(3.8845654)"
      ]
     },
     "execution_count": 310,
     "metadata": {},
     "output_type": "execute_result"
    }
   ],
   "source": [
    "testOCV(testSOC)"
   ]
  },
  {
   "cell_type": "code",
   "execution_count": 321,
   "metadata": {},
   "outputs": [
    {
     "data": {
      "text/plain": [
       "Text(0.5, 0, 'State of Charge')"
      ]
     },
     "execution_count": 321,
     "metadata": {},
     "output_type": "execute_result"
    },
    {
     "data": {
      "image/png": "[encoded data removed]",
      "text/plain": [
       "<Figure size 720x504 with 1 Axes>"
      ]
     },
     "metadata": {
      "needs_background": "light"
     },
     "output_type": "display_data"
    }
   ],
   "source": [
    "plt.figure(figsize=(10,7))\n",
    "plt.plot(data[5]['SOC'],OCV_T,label=T)\n",
    "plt.legend()\n",
    "plt.ylabel('Voltage (V)',fontsize=16)\n",
    "plt.xlabel('State of Charge',fontsize=16)"
   ]
  },
  {
   "cell_type": "code",
   "execution_count": null,
   "metadata": {},
   "outputs": [],
   "source": []
  }
 ],
 "metadata": {
  "kernelspec": {
   "display_name": "Python 3",
   "language": "python",
   "name": "python3"
  },
  "language_info": {
   "codemirror_mode": {
    "name": "ipython",
    "version": 3
   },
   "file_extension": ".py",
   "mimetype": "text/x-python",
   "name": "python",
   "nbconvert_exporter": "python",
   "pygments_lexer": "ipython3",
   "version": "3.7.4"
  }
 },
 "nbformat": 4,
 "nbformat_minor": 2
}
