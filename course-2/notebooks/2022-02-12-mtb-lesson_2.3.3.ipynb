{
 "cells": [
  {
   "cell_type": "code",
   "execution_count": 1,
   "metadata": {},
   "outputs": [],
   "source": [
    "import scipy.io\n",
    "import matplotlib.pyplot as plt\n",
    "import pandas as pd\n",
    "import numpy as np\n",
    "from scipy.interpolate import interp1d\n",
    "from joblib import load,dump\n",
    "\n",
    "import sys\n",
    "sys.path.insert(0,'../scripts/')\n",
    "from processDynamic import processDynamic"
   ]
  },
  {
   "cell_type": "code",
   "execution_count": 2,
   "metadata": {},
   "outputs": [],
   "source": [
    "# # I saved my own model data as pickle files, but may not need\n",
    "# model_output = load('../data/p14model-ocv.pkl')\n",
    "model_data = load('../data/p14model-data.pkl')"
   ]
  },
  {
   "cell_type": "code",
   "execution_count": 3,
   "metadata": {},
   "outputs": [],
   "source": [
    "# Note, had to resave this data in Octave like so: save -mat7-binary 'file.mat' model\n",
    "data = scipy.io.loadmat('../data/P14model-ocv-mat7.mat', simplify_cells=True)"
   ]
  },
  {
   "cell_type": "code",
   "execution_count": 4,
   "metadata": {},
   "outputs": [
    {
     "data": {
      "text/plain": [
       "{'OCV0': array([2.81470779, 2.93868447, 3.01516997, 3.07411196, 3.12544054,\n",
       "        3.17081937, 3.21131818, 3.24763356, 3.28061477, 3.31092438,\n",
       "        3.33849313, 3.36398726, 3.38780689, 3.40975716, 3.43034066,\n",
       "        3.44961333, 3.46745989, 3.48419357, 3.50010065, 3.51398477,\n",
       "        3.52565876, 3.53307529, 3.5364063 , 3.53852764, 3.54078488,\n",
       "        3.54316585, 3.54550151, 3.5479706 , 3.55061724, 3.55323247,\n",
       "        3.55602062, 3.55899084, 3.56222732, 3.56571079, 3.56923204,\n",
       "        3.57344944, 3.57752544, 3.58235759, 3.58744415, 3.59280726,\n",
       "        3.59855766, 3.60439087, 3.61037773, 3.61631752, 3.62253614,\n",
       "        3.62841186, 3.63434984, 3.64047978, 3.64650325, 3.65294508,\n",
       "        3.65928748, 3.66615199, 3.67273774, 3.67882764, 3.68468219,\n",
       "        3.69058558, 3.6967578 , 3.70330964, 3.7103696 , 3.71756382,\n",
       "        3.72495529, 3.73158362, 3.73758985, 3.74257525, 3.74719253,\n",
       "        3.75156921, 3.75596412, 3.76010042, 3.76420659, 3.76818853,\n",
       "        3.77203073, 3.77568713, 3.77940855, 3.78281654, 3.78645186,\n",
       "        3.78993825, 3.79324879, 3.79651928, 3.79985529, 3.80280576,\n",
       "        3.8057321 , 3.80870726, 3.81186142, 3.81452035, 3.81734548,\n",
       "        3.82002476, 3.82262019, 3.82527841, 3.82783937, 3.83030289,\n",
       "        3.83271216, 3.8353085 , 3.83781863, 3.84005253, 3.84243229,\n",
       "        3.84471964, 3.84720236, 3.84965151, 3.85175577, 3.85418476,\n",
       "        3.85641818, 3.85856931, 3.86066744, 3.86283587, 3.86512724,\n",
       "        3.86735539, 3.86928825, 3.87168896, 3.87364874, 3.87574139,\n",
       "        3.87792963, 3.88014473, 3.88240665, 3.88459958, 3.8866886 ,\n",
       "        3.88891771, 3.8911141 , 3.89337477, 3.89575995, 3.89800998,\n",
       "        3.90029531, 3.90266113, 3.90511867, 3.90759687, 3.91010665,\n",
       "        3.91277128, 3.91539736, 3.91819778, 3.92107976, 3.92392665,\n",
       "        3.92722552, 3.93052019, 3.93419105, 3.93830763, 3.94227925,\n",
       "        3.94628848, 3.95066175, 3.95505126, 3.95963404, 3.9642768 ,\n",
       "        3.96879462, 3.97330723, 3.97770621, 3.98156968, 3.98543834,\n",
       "        3.98914728, 3.99271581, 3.99598173, 3.99905504, 4.00216123,\n",
       "        4.00495816, 4.00781049, 4.01048648, 4.01302251, 4.01541201,\n",
       "        4.01757383, 4.01983629, 4.02198678, 4.02407591, 4.02589008,\n",
       "        4.02784214, 4.0298062 , 4.03140957, 4.03322461, 4.03481019,\n",
       "        4.03645146, 4.03808076, 4.03967865, 4.0411989 , 4.04293542,\n",
       "        4.04458667, 4.04595622, 4.04775459, 4.04942204, 4.05107963,\n",
       "        4.05291654, 4.05470143, 4.0564909 , 4.05832712, 4.06037937,\n",
       "        4.06248026, 4.06469447, 4.06700281, 4.06935185, 4.07170991,\n",
       "        4.07449602, 4.07721568, 4.0802519 , 4.0832516 , 4.0865567 ,\n",
       "        4.09012358, 4.09384415, 4.09796477, 4.10236303, 4.10708368,\n",
       "        4.11214398, 4.11775757, 4.12382447, 4.13047364, 4.13826683,\n",
       "        4.14878273]),\n",
       " 'OCVrel': array([-1.87089443e-04, -8.90203585e-04, -7.77413484e-04, -6.71882675e-04,\n",
       "        -6.15887038e-04, -5.72256787e-04, -5.30431264e-04, -5.00183250e-04,\n",
       "        -4.80568374e-04, -4.67186771e-04, -4.45476799e-04, -4.27328721e-04,\n",
       "        -4.19526483e-04, -4.08410273e-04, -3.99150125e-04, -3.91929720e-04,\n",
       "        -3.80559581e-04, -3.69753833e-04, -3.65321943e-04, -3.34271364e-04,\n",
       "        -2.83869515e-04, -1.69938552e-04, -4.18550772e-05,  2.28707318e-05,\n",
       "         4.05474429e-05,  4.21005869e-05,  4.03095177e-05,  3.53390461e-05,\n",
       "         2.92316842e-05,  2.54759770e-05,  1.89625431e-05,  1.38056315e-05,\n",
       "         3.10537522e-06, -1.20031289e-05, -1.67726284e-05, -3.63984132e-05,\n",
       "        -4.45557688e-05, -6.13160639e-05, -7.52620698e-05, -8.46198902e-05,\n",
       "        -9.67541921e-05, -1.04266160e-04, -1.07601439e-04, -1.03146926e-04,\n",
       "        -1.07636328e-04, -9.49987857e-05, -9.12606516e-05, -8.93457249e-05,\n",
       "        -7.98312150e-05, -7.56250408e-05, -5.87049993e-05, -6.13460454e-05,\n",
       "        -6.56604837e-05, -6.96259973e-05, -6.68417735e-05, -5.61805212e-05,\n",
       "        -4.03254137e-05, -2.57975985e-05, -1.82471926e-05, -1.76175202e-05,\n",
       "        -4.29935761e-05, -6.88614919e-05, -9.46249120e-05, -9.57003532e-05,\n",
       "        -8.93153918e-05, -7.05840641e-05, -5.61796133e-05, -3.03992944e-05,\n",
       "        -6.14864161e-06,  2.48678772e-05,  5.39639149e-05,  8.61728323e-05,\n",
       "         1.12134158e-04,  1.38099071e-04,  1.49547408e-04,  1.57191939e-04,\n",
       "         1.70873517e-04,  1.79770778e-04,  1.83376027e-04,  1.95684360e-04,\n",
       "         2.05830428e-04,  2.12745226e-04,  2.08990187e-04,  2.19116761e-04,\n",
       "         2.23513671e-04,  2.26896697e-04,  2.31827172e-04,  2.32604117e-04,\n",
       "         2.34643730e-04,  2.37350546e-04,  2.42783291e-04,  2.39169143e-04,\n",
       "         2.35319887e-04,  2.40246118e-04,  2.43722423e-04,  2.46311153e-04,\n",
       "         2.42242747e-04,  2.33976297e-04,  2.43400699e-04,  2.35357746e-04,\n",
       "         2.38504374e-04,  2.35519012e-04,  2.35143810e-04,  2.31924829e-04,\n",
       "         2.25784068e-04,  2.19316872e-04,  2.24783196e-04,  2.11681171e-04,\n",
       "         2.13584027e-04,  2.12720662e-04,  2.05662930e-04,  1.97289915e-04,\n",
       "         1.92291018e-04,  1.88067400e-04,  1.85455316e-04,  1.78372218e-04,\n",
       "         1.74630583e-04,  1.66909809e-04,  1.60826982e-04,  1.57346987e-04,\n",
       "         1.52181086e-04,  1.51103032e-04,  1.45456898e-04,  1.41564256e-04,\n",
       "         1.37411193e-04,  1.28619093e-04,  1.30373023e-04,  1.27900214e-04,\n",
       "         1.26306706e-04,  1.31237163e-04,  1.34380255e-04,  1.47268531e-04,\n",
       "         1.63586874e-04,  1.82355055e-04,  2.24298078e-04,  2.72495177e-04,\n",
       "         3.15859669e-04,  3.52602083e-04,  3.64562496e-04,  3.64266913e-04,\n",
       "         3.53688506e-04,  3.32169137e-04,  3.06294525e-04,  2.89967168e-04,\n",
       "         2.70562361e-04,  2.51002457e-04,  2.31981080e-04,  2.21397578e-04,\n",
       "         2.16242170e-04,  2.02720961e-04,  1.98635259e-04,  1.91888203e-04,\n",
       "         1.86495758e-04,  1.83042844e-04,  1.82759360e-04,  1.84344449e-04,\n",
       "         1.81788000e-04,  1.80181476e-04,  1.78263908e-04,  1.83762636e-04,\n",
       "         1.84907745e-04,  1.80590971e-04,  1.85478171e-04,  1.80623004e-04,\n",
       "         1.84866878e-04,  1.84760715e-04,  1.89427913e-04,  1.92342005e-04,\n",
       "         1.94441245e-04,  1.90513305e-04,  1.90427766e-04,  1.96175774e-04,\n",
       "         1.96279133e-04,  1.99169283e-04,  2.00803265e-04,  2.00825107e-04,\n",
       "         2.00856361e-04,  2.02765312e-04,  2.07477784e-04,  2.06763970e-04,\n",
       "         2.06441209e-04,  2.05656546e-04,  2.02240455e-04,  2.04884857e-04,\n",
       "         2.09873258e-04,  2.01480640e-04,  2.04222060e-04,  1.98603323e-04,\n",
       "         2.03731795e-04,  1.99372569e-04,  1.96136428e-04,  1.95550417e-04,\n",
       "         1.89484316e-04,  1.79730569e-04,  1.78001031e-04,  1.65420934e-04,\n",
       "         1.54922020e-04,  1.39901813e-04,  1.22122217e-04,  8.63254984e-05,\n",
       "         2.11524963e-05]),\n",
       " 'SOC': array([0.   , 0.005, 0.01 , 0.015, 0.02 , 0.025, 0.03 , 0.035, 0.04 ,\n",
       "        0.045, 0.05 , 0.055, 0.06 , 0.065, 0.07 , 0.075, 0.08 , 0.085,\n",
       "        0.09 , 0.095, 0.1  , 0.105, 0.11 , 0.115, 0.12 , 0.125, 0.13 ,\n",
       "        0.135, 0.14 , 0.145, 0.15 , 0.155, 0.16 , 0.165, 0.17 , 0.175,\n",
       "        0.18 , 0.185, 0.19 , 0.195, 0.2  , 0.205, 0.21 , 0.215, 0.22 ,\n",
       "        0.225, 0.23 , 0.235, 0.24 , 0.245, 0.25 , 0.255, 0.26 , 0.265,\n",
       "        0.27 , 0.275, 0.28 , 0.285, 0.29 , 0.295, 0.3  , 0.305, 0.31 ,\n",
       "        0.315, 0.32 , 0.325, 0.33 , 0.335, 0.34 , 0.345, 0.35 , 0.355,\n",
       "        0.36 , 0.365, 0.37 , 0.375, 0.38 , 0.385, 0.39 , 0.395, 0.4  ,\n",
       "        0.405, 0.41 , 0.415, 0.42 , 0.425, 0.43 , 0.435, 0.44 , 0.445,\n",
       "        0.45 , 0.455, 0.46 , 0.465, 0.47 , 0.475, 0.48 , 0.485, 0.49 ,\n",
       "        0.495, 0.5  , 0.505, 0.51 , 0.515, 0.52 , 0.525, 0.53 , 0.535,\n",
       "        0.54 , 0.545, 0.55 , 0.555, 0.56 , 0.565, 0.57 , 0.575, 0.58 ,\n",
       "        0.585, 0.59 , 0.595, 0.6  , 0.605, 0.61 , 0.615, 0.62 , 0.625,\n",
       "        0.63 , 0.635, 0.64 , 0.645, 0.65 , 0.655, 0.66 , 0.665, 0.67 ,\n",
       "        0.675, 0.68 , 0.685, 0.69 , 0.695, 0.7  , 0.705, 0.71 , 0.715,\n",
       "        0.72 , 0.725, 0.73 , 0.735, 0.74 , 0.745, 0.75 , 0.755, 0.76 ,\n",
       "        0.765, 0.77 , 0.775, 0.78 , 0.785, 0.79 , 0.795, 0.8  , 0.805,\n",
       "        0.81 , 0.815, 0.82 , 0.825, 0.83 , 0.835, 0.84 , 0.845, 0.85 ,\n",
       "        0.855, 0.86 , 0.865, 0.87 , 0.875, 0.88 , 0.885, 0.89 , 0.895,\n",
       "        0.9  , 0.905, 0.91 , 0.915, 0.92 , 0.925, 0.93 , 0.935, 0.94 ,\n",
       "        0.945, 0.95 , 0.955, 0.96 , 0.965, 0.97 , 0.975, 0.98 , 0.985,\n",
       "        0.99 , 0.995, 1.   ]),\n",
       " 'OCV': array([2.49, 2.5 , 2.51, 2.52, 2.53, 2.54, 2.55, 2.56, 2.57, 2.58, 2.59,\n",
       "        2.6 , 2.61, 2.62, 2.63, 2.64, 2.65, 2.66, 2.67, 2.68, 2.69, 2.7 ,\n",
       "        2.71, 2.72, 2.73, 2.74, 2.75, 2.76, 2.77, 2.78, 2.79, 2.8 , 2.81,\n",
       "        2.82, 2.83, 2.84, 2.85, 2.86, 2.87, 2.88, 2.89, 2.9 , 2.91, 2.92,\n",
       "        2.93, 2.94, 2.95, 2.96, 2.97, 2.98, 2.99, 3.  , 3.01, 3.02, 3.03,\n",
       "        3.04, 3.05, 3.06, 3.07, 3.08, 3.09, 3.1 , 3.11, 3.12, 3.13, 3.14,\n",
       "        3.15, 3.16, 3.17, 3.18, 3.19, 3.2 , 3.21, 3.22, 3.23, 3.24, 3.25,\n",
       "        3.26, 3.27, 3.28, 3.29, 3.3 , 3.31, 3.32, 3.33, 3.34, 3.35, 3.36,\n",
       "        3.37, 3.38, 3.39, 3.4 , 3.41, 3.42, 3.43, 3.44, 3.45, 3.46, 3.47,\n",
       "        3.48, 3.49, 3.5 , 3.51, 3.52, 3.53, 3.54, 3.55, 3.56, 3.57, 3.58,\n",
       "        3.59, 3.6 , 3.61, 3.62, 3.63, 3.64, 3.65, 3.66, 3.67, 3.68, 3.69,\n",
       "        3.7 , 3.71, 3.72, 3.73, 3.74, 3.75, 3.76, 3.77, 3.78, 3.79, 3.8 ,\n",
       "        3.81, 3.82, 3.83, 3.84, 3.85, 3.86, 3.87, 3.88, 3.89, 3.9 , 3.91,\n",
       "        3.92, 3.93, 3.94, 3.95, 3.96, 3.97, 3.98, 3.99, 4.  , 4.01, 4.02,\n",
       "        4.03, 4.04, 4.05, 4.06, 4.07, 4.08, 4.09, 4.1 , 4.11, 4.12, 4.13,\n",
       "        4.14, 4.15, 4.16, 4.17, 4.18, 4.19, 4.2 , 4.21, 4.22, 4.23, 4.24,\n",
       "        4.25, 4.26]),\n",
       " 'SOC0': array([-1.32718325e-02, -1.28624869e-02, -1.24531413e-02, -1.20437957e-02,\n",
       "        -1.16344501e-02, -1.12251045e-02, -1.08157589e-02, -1.04064133e-02,\n",
       "        -9.99706768e-03, -9.58772208e-03, -9.17837648e-03, -8.76903088e-03,\n",
       "        -8.35968529e-03, -7.95033969e-03, -7.54099409e-03, -7.13164850e-03,\n",
       "        -6.72230290e-03, -6.31295730e-03, -5.90361170e-03, -5.49426611e-03,\n",
       "        -5.08492051e-03, -4.67557491e-03, -4.26622932e-03, -3.85688372e-03,\n",
       "        -3.44753812e-03, -3.03819252e-03, -2.62884693e-03, -2.21950133e-03,\n",
       "        -1.81015573e-03, -1.40081014e-03, -9.91464538e-04, -5.82118941e-04,\n",
       "        -1.71615977e-04,  2.77160767e-04,  7.77920175e-04,  1.27867958e-03,\n",
       "         1.77943899e-03,  2.28019840e-03,  2.78095781e-03,  3.28171721e-03,\n",
       "         3.78247662e-03,  4.28323603e-03,  4.78399544e-03,  5.28475484e-03,\n",
       "         5.78551425e-03,  6.28627366e-03,  6.78703307e-03,  7.28779248e-03,\n",
       "         7.78855188e-03,  8.28931129e-03,  8.80543775e-03,  9.35056066e-03,\n",
       "         9.93973408e-03,  1.05968206e-02,  1.13485270e-02,  1.22104673e-02,\n",
       "         1.31181433e-02,  1.40258193e-02,  1.49334953e-02,  1.58411713e-02,\n",
       "         1.67488474e-02,  1.76590229e-02,  1.85882048e-02,  1.95584663e-02,\n",
       "         2.05801950e-02,  2.16704531e-02,  2.28309735e-02,  2.39959063e-02,\n",
       "         2.51608391e-02,  2.63257719e-02,  2.74937159e-02,  2.86887305e-02,\n",
       "         2.99352246e-02,  3.12561487e-02,  3.26732692e-02,  3.41166570e-02,\n",
       "         3.55600448e-02,  3.70046289e-02,  3.84749544e-02,  4.00023667e-02,\n",
       "         4.16161316e-02,  4.33285603e-02,  4.50565902e-02,  4.67865556e-02,\n",
       "         4.85480275e-02,  5.03779565e-02,  5.23135772e-02,  5.43416461e-02,\n",
       "         5.63711464e-02,  5.84347331e-02,  6.05763160e-02,  6.28469828e-02,\n",
       "         6.51982838e-02,  6.75681336e-02,  7.00137467e-02,  7.25820691e-02,\n",
       "         7.52740568e-02,  7.80039174e-02,  8.08309287e-02,  8.38191882e-02,\n",
       "         8.69031430e-02,  9.01266384e-02,  9.37007760e-02,  9.77425055e-02,\n",
       "         1.03029779e-01,  1.18615922e-01,  1.38734860e-01,  1.56395520e-01,\n",
       "         1.70960766e-01,  1.82567063e-01,  1.92360522e-01,  2.01246525e-01,\n",
       "         2.09679134e-01,  2.17910420e-01,  2.26270081e-01,  2.34621027e-01,\n",
       "         2.42695134e-01,  2.50524571e-01,  2.57975825e-01,  2.66082365e-01,\n",
       "         2.74361933e-01,  2.82364407e-01,  2.89720819e-01,  2.96620089e-01,\n",
       "         3.04085560e-01,  3.12487169e-01,  3.23060543e-01,  3.34800588e-01,\n",
       "         3.47559390e-01,  3.61290351e-01,  3.75561151e-01,  3.90898456e-01,\n",
       "         4.07360804e-01,  4.25421327e-01,  4.44662165e-01,  4.64970804e-01,\n",
       "         4.86147664e-01,  5.08155011e-01,  5.31189281e-01,  5.54115820e-01,\n",
       "         5.76932798e-01,  5.98932091e-01,  6.19473302e-01,  6.37988785e-01,\n",
       "         6.54248234e-01,  6.68043232e-01,  6.80165020e-01,  6.90720955e-01,\n",
       "         7.01033446e-01,  7.12548643e-01,  7.25783051e-01,  7.41356266e-01,\n",
       "         7.59178805e-01,  7.80537045e-01,  8.06426870e-01,  8.36202504e-01,\n",
       "         8.66582997e-01,  8.93561524e-01,  9.16028510e-01,  9.34330395e-01,\n",
       "         9.49386848e-01,  9.61968966e-01,  9.72505438e-01,  9.81547079e-01,\n",
       "         9.89309805e-01,  9.95105763e-01,  1.00055986e+00,  1.00540071e+00,\n",
       "         1.01024155e+00,  1.01508240e+00,  1.01992325e+00,  1.02476409e+00,\n",
       "         1.02960494e+00,  1.03444579e+00,  1.03928663e+00,  1.04412748e+00,\n",
       "         1.04896833e+00,  1.05380917e+00]),\n",
       " 'SOCrel': array([-7.75976352e-05, -7.49376242e-05, -7.22776132e-05, -6.96176022e-05,\n",
       "        -6.69575912e-05, -6.42975802e-05, -6.16375692e-05, -5.89775582e-05,\n",
       "        -5.63175472e-05, -5.36575362e-05, -5.09975252e-05, -4.83375142e-05,\n",
       "        -4.56775032e-05, -4.30174922e-05, -4.03574811e-05, -3.76974701e-05,\n",
       "        -3.50374591e-05, -3.23774481e-05, -2.97174371e-05, -2.70574261e-05,\n",
       "        -2.43974151e-05, -2.17374041e-05, -1.90773931e-05, -1.64173821e-05,\n",
       "        -1.37573711e-05, -1.10973601e-05, -8.43734910e-06, -5.77733809e-06,\n",
       "        -3.11732709e-06, -4.57316086e-07,  2.20269492e-06,  4.86270592e-06,\n",
       "         7.68453454e-06,  1.08254907e-05,  1.23984140e-05,  1.39713373e-05,\n",
       "         1.55442606e-05,  1.71171839e-05,  1.86901072e-05,  2.02630305e-05,\n",
       "         2.18359538e-05,  2.34088771e-05,  2.49818004e-05,  2.65547237e-05,\n",
       "         2.81276469e-05,  2.97005702e-05,  3.12734935e-05,  3.28464168e-05,\n",
       "         3.44193401e-05,  3.59922634e-05,  4.01921459e-05,  4.63993427e-05,\n",
       "         5.35777932e-05,  6.03579656e-05,  6.48653001e-05,  6.54019261e-05,\n",
       "         6.41091250e-05,  6.28163239e-05,  6.15235227e-05,  6.02307216e-05,\n",
       "         5.89379205e-05,  5.81450265e-05,  6.00062200e-05,  6.35215575e-05,\n",
       "         6.68621897e-05,  6.85418031e-05,  6.75812711e-05,  6.64442437e-05,\n",
       "         6.53072163e-05,  6.41701889e-05,  6.36354025e-05,  6.62722173e-05,\n",
       "         7.03586994e-05,  7.35511506e-05,  7.35777689e-05,  7.25536952e-05,\n",
       "         7.15296215e-05,  7.07448248e-05,  7.32799197e-05,  7.74933686e-05,\n",
       "         8.04648839e-05,  8.00536293e-05,  7.90183296e-05,  7.83701303e-05,\n",
       "         8.13743635e-05,  8.58413245e-05,  8.81991783e-05,  8.71429502e-05,\n",
       "         8.63730146e-05,  8.96105190e-05,  9.44357447e-05,  9.63554410e-05,\n",
       "         9.52396089e-05,  9.69642313e-05,  1.01943379e-04,  1.05103876e-04,\n",
       "         1.03860521e-04,  1.07021105e-04,  1.12313165e-04,  1.13755185e-04,\n",
       "         1.15371621e-04,  1.22675793e-04,  1.23745034e-04,  1.24523853e-04,\n",
       "         1.33962531e-04, -5.08807073e-05, -6.26294349e-05, -1.50199712e-05,\n",
       "         2.52523893e-05,  5.65970090e-05,  7.53141884e-05,  8.48434776e-05,\n",
       "         8.88298029e-05,  8.79169323e-05,  8.02560679e-05,  6.94626496e-05,\n",
       "         5.61945155e-05,  4.49687325e-05,  4.84188115e-05,  5.56834184e-05,\n",
       "         4.39283562e-05,  2.50050380e-05,  1.37128014e-05,  2.46059119e-05,\n",
       "         5.56638801e-05,  9.61136689e-05,  8.43548857e-05,  3.52372806e-05,\n",
       "        -4.43903875e-05, -1.41977883e-04, -2.18927791e-04, -2.84354487e-04,\n",
       "        -3.38458314e-04, -4.04162820e-04, -4.57184975e-04, -4.95076941e-04,\n",
       "        -5.15674268e-04, -5.34103784e-04, -5.27235690e-04, -4.81367149e-04,\n",
       "        -4.18868731e-04, -3.48876840e-04, -2.82266148e-04, -2.27805340e-04,\n",
       "        -2.09058956e-04, -2.39380538e-04, -3.05037785e-04, -3.48668719e-04,\n",
       "        -3.71469970e-04, -3.89013872e-04, -3.78932951e-04, -3.65660207e-04,\n",
       "        -3.67492192e-04, -4.10701936e-04, -4.95081195e-04, -5.73150018e-04,\n",
       "        -5.84092630e-04, -5.19303258e-04, -4.37524890e-04, -3.56025478e-04,\n",
       "        -2.85266371e-04, -2.25790078e-04, -1.77510724e-04, -1.33931969e-04,\n",
       "        -9.51460076e-05, -4.39655968e-05, -7.66527621e-06,  2.72441381e-05,\n",
       "         6.21535525e-05,  9.70629668e-05,  1.31972381e-04,  1.66881796e-04,\n",
       "         2.01791210e-04,  2.36700624e-04,  2.71610039e-04,  3.06519453e-04,\n",
       "         3.41428867e-04,  3.76338282e-04]),\n",
       " 'OCVeta': array([1.00030384, 0.99994781, 1.00077036, 0.99967055, 0.9997705 ,\n",
       "        0.99818516, 1.000058  , 0.99529019]),\n",
       " 'OCVQ': array([14.88436386, 14.89838021, 14.92162105, 14.92638494, 14.9415591 ,\n",
       "        14.94169886, 15.01556462, 14.88860883]),\n",
       " 'name': 'P14'}"
      ]
     },
     "execution_count": 4,
     "metadata": {},
     "output_type": "execute_result"
    }
   ],
   "source": [
    "data['model']['model']"
   ]
  },
  {
   "cell_type": "code",
   "execution_count": 5,
   "metadata": {},
   "outputs": [],
   "source": [
    "test = processDynamic(model_dir='../data/')"
   ]
  },
  {
   "cell_type": "code",
   "execution_count": 6,
   "metadata": {},
   "outputs": [],
   "source": [
    "test.load_data()"
   ]
  },
  {
   "cell_type": "code",
   "execution_count": 7,
   "metadata": {},
   "outputs": [],
   "source": [
    "#plt.plot(test.data[5]['script1']['time'],test.data[5]['script1']['current'])"
   ]
  },
  {
   "cell_type": "code",
   "execution_count": 8,
   "metadata": {},
   "outputs": [
    {
     "name": "stdout",
     "output_type": "stream",
     "text": [
      "25 14.531852290290429\n",
      "5 14.482598404517704\n",
      "45 14.414656461803379\n"
     ]
    }
   ],
   "source": [
    "test.process_DYN_step1()"
   ]
  },
  {
   "cell_type": "code",
   "execution_count": 9,
   "metadata": {},
   "outputs": [],
   "source": [
    "test.process_DYN_step2()"
   ]
  },
  {
   "cell_type": "code",
   "execution_count": 10,
   "metadata": {},
   "outputs": [],
   "source": [
    "#test.model[5]['OCV'][0]"
   ]
  },
  {
   "cell_type": "code",
   "execution_count": 11,
   "metadata": {},
   "outputs": [
    {
     "data": {
      "text/plain": [
       "[<matplotlib.lines.Line2D at 0x7f97c9f7b350>]"
      ]
     },
     "execution_count": 11,
     "metadata": {},
     "output_type": "execute_result"
    },
    {
     "data": {
      "image/png": "[encoded data removed]",
      "text/plain": [
       "<Figure size 432x288 with 1 Axes>"
      ]
     },
     "metadata": {
      "needs_background": "light"
     },
     "output_type": "display_data"
    }
   ],
   "source": [
    "plt.plot(test.model[5]['Z'],test.model[5]['OCV'][0])"
   ]
  },
  {
   "cell_type": "code",
   "execution_count": 12,
   "metadata": {},
   "outputs": [
    {
     "name": "stdout",
     "output_type": "stream",
     "text": [
      "426 32302 33460 [-0.00156775 -0.0015661  -0.00156339 ... -0.00742599 -0.00730609\n",
      " -0.00742798]\n",
      "RMS error for present value of gamma = 31.560000 (mV)\n",
      "350 31469 35560 [-0.00253906 -0.00253906 -0.00253906 ... -0.03117429 -0.03132117\n",
      " -0.03130914]\n",
      "RMS error for present value of gamma = 48.860000 (mV)\n",
      "473 32532 33460 [-0.00593891 -0.00593891 -0.00593891 ... -0.03656621 -0.03642693\n",
      " -0.0364476 ]\n",
      "RMS error for present value of gamma = 22.610000 (mV)\n"
     ]
    }
   ],
   "source": [
    "test.minfn(25,0)"
   ]
  },
  {
   "cell_type": "code",
   "execution_count": 13,
   "metadata": {},
   "outputs": [
    {
     "data": {
      "text/plain": [
       "[<matplotlib.lines.Line2D at 0x7f97cbabe9d0>]"
      ]
     },
     "execution_count": 13,
     "metadata": {},
     "output_type": "execute_result"
    },
    {
     "data": {
      "image/png": "[encoded data removed]",
      "text/plain": [
       "<Figure size 432x288 with 1 Axes>"
      ]
     },
     "metadata": {
      "needs_background": "light"
     },
     "output_type": "display_data"
    }
   ],
   "source": [
    "plt.plot(test.model[25]['vest1'])"
   ]
  }
 ],
 "metadata": {
  "kernelspec": {
   "display_name": "Python 3",
   "language": "python",
   "name": "python3"
  },
  "language_info": {
   "codemirror_mode": {
    "name": "ipython",
    "version": 3
   },
   "file_extension": ".py",
   "mimetype": "text/x-python",
   "name": "python",
   "nbconvert_exporter": "python",
   "pygments_lexer": "ipython3",
   "version": "3.7.4"
  }
 },
 "nbformat": 4,
 "nbformat_minor": 2
}
