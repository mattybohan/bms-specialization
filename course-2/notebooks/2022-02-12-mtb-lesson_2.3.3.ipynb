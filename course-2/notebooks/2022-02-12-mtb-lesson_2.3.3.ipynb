{
 "cells": [
  {
   "cell_type": "code",
   "execution_count": 1,
   "metadata": {},
   "outputs": [],
   "source": [
    "import scipy.io\n",
    "import matplotlib.pyplot as plt\n",
    "import pandas as pd\n",
    "import numpy as np\n",
    "from scipy.interpolate import interp1d\n",
    "from joblib import load,dump\n",
    "import scipy.linalg as la\n",
    "from scipy.optimize import nnls\n",
    "\n",
    "import sys\n",
    "sys.path.insert(0,'../scripts/')\n",
    "from processDynamic import ProcessDynamic"
   ]
  },
  {
   "cell_type": "code",
   "execution_count": 2,
   "metadata": {},
   "outputs": [],
   "source": [
    "# # I saved my own model data as pickle files, but may not need\n",
    "# model_output = load('../data/p14model-ocv.pkl')\n",
    "#model_data = load('../data/p14model-data.pkl')"
   ]
  },
  {
   "cell_type": "code",
   "execution_count": 3,
   "metadata": {},
   "outputs": [],
   "source": [
    "# Note, had to resave this data in Octave like so: save -mat7-binary 'file.mat' model\n",
    "#data = scipy.io.loadmat('../data/P14model-ocv-mat7.mat', simplify_cells=True)"
   ]
  },
  {
   "cell_type": "code",
   "execution_count": 4,
   "metadata": {},
   "outputs": [],
   "source": [
    "test = ProcessDynamic(model_dir='../data/',do_hyst=1)"
   ]
  },
  {
   "cell_type": "code",
   "execution_count": 5,
   "metadata": {},
   "outputs": [],
   "source": [
    "test.load_data()"
   ]
  },
  {
   "cell_type": "code",
   "execution_count": 6,
   "metadata": {},
   "outputs": [
    {
     "name": "stdout",
     "output_type": "stream",
     "text": [
      "25 14.531852290290429 0.9910212941308391\n",
      "5 14.482598404517704 0.9874053548391215\n",
      "45 14.414656461803379 0.9902808733940264\n"
     ]
    }
   ],
   "source": [
    "test.process_DYN_step1()"
   ]
  },
  {
   "cell_type": "code",
   "execution_count": 7,
   "metadata": {},
   "outputs": [],
   "source": [
    "test.process_DYN_step2()"
   ]
  },
  {
   "cell_type": "code",
   "execution_count": 8,
   "metadata": {},
   "outputs": [
    {
     "data": {
      "text/plain": [
       "[<matplotlib.lines.Line2D at 0x7f903290c4d0>]"
      ]
     },
     "execution_count": 8,
     "metadata": {},
     "output_type": "execute_result"
    },
    {
     "data": {
      "image/png": "[encoded data removed]",
      "text/plain": [
       "<Figure size 432x288 with 1 Axes>"
      ]
     },
     "metadata": {
      "needs_background": "light"
     },
     "output_type": "display_data"
    }
   ],
   "source": [
    "plt.plot(test.model[5]['Z'],test.model[5]['OCV'][0])"
   ]
  },
  {
   "cell_type": "code",
   "execution_count": 9,
   "metadata": {},
   "outputs": [],
   "source": [
    "#test.minfn(5,1)"
   ]
  },
  {
   "cell_type": "code",
   "execution_count": 10,
   "metadata": {},
   "outputs": [],
   "source": [
    "#test.minfn(25,0)"
   ]
  },
  {
   "cell_type": "code",
   "execution_count": 11,
   "metadata": {},
   "outputs": [],
   "source": [
    "#test.minfn(45,0)"
   ]
  },
  {
   "cell_type": "markdown",
   "metadata": {},
   "source": [
    "### Definitely something wrong with optfn/minfn because no responding correctly to changes in G\n",
    "- Next steps: Compare Optfn between python and matlab directly "
   ]
  },
  {
   "cell_type": "code",
   "execution_count": 12,
   "metadata": {},
   "outputs": [],
   "source": [
    "# Processing temperature 5\n",
    "# G = 96.110\n",
    "# look here\n",
    "# M = 0.037733\n",
    "# M0 = 2.4422e-03\n",
    "# R0 = 4.6328e-03\n",
    "# Rfact = 7.6053e-04"
   ]
  },
  {
   "cell_type": "markdown",
   "metadata": {},
   "source": [
    "print('look here',M,M0,R0,Rfact)"
   ]
  },
  {
   "cell_type": "code",
   "execution_count": 13,
   "metadata": {},
   "outputs": [
    {
     "name": "stderr",
     "output_type": "stream",
     "text": [
      "../scripts/processDynamic.py:259: ComplexWarning: Casting complex values to real discards the imaginary part\n",
      "  vrcRaw[:,i] = np.diag(RCfact)*vrcRaw[:,i-1] + (1-RCfact)*current[i-1]\n"
     ]
    },
    {
     "name": "stdout",
     "output_type": "stream",
     "text": [
      "RMS error for present value of gamma = 9.630000 (mV)\n",
      "The model created for this value of gamma is the best ESC model yet! GParam =  96.11\n"
     ]
    },
    {
     "data": {
      "text/plain": [
       "0.00962863741218036"
      ]
     },
     "execution_count": 13,
     "metadata": {},
     "output_type": "execute_result"
    }
   ],
   "source": [
    "test.optfn(96.110,5,1)"
   ]
  },
  {
   "cell_type": "code",
   "execution_count": 14,
   "metadata": {},
   "outputs": [
    {
     "name": "stdout",
     "output_type": "stream",
     "text": [
      "RMS error for present value of gamma = 5.550000 (mV)\n",
      "The model created for this value of gamma is the best ESC model yet! GParam =  92\n"
     ]
    },
    {
     "data": {
      "text/plain": [
       "0.005553589974017236"
      ]
     },
     "execution_count": 14,
     "metadata": {},
     "output_type": "execute_result"
    }
   ],
   "source": [
    "test.optfn(92,25,1)"
   ]
  },
  {
   "cell_type": "code",
   "execution_count": 15,
   "metadata": {},
   "outputs": [
    {
     "name": "stdout",
     "output_type": "stream",
     "text": [
      "RMS error for present value of gamma = 5.570000 (mV)\n"
     ]
    },
    {
     "data": {
      "text/plain": [
       "0.00556646562208994"
      ]
     },
     "execution_count": 15,
     "metadata": {},
     "output_type": "execute_result"
    }
   ],
   "source": [
    "test.optfn(67,25,1)"
   ]
  },
  {
   "cell_type": "code",
   "execution_count": null,
   "metadata": {},
   "outputs": [],
   "source": []
  },
  {
   "cell_type": "code",
   "execution_count": 16,
   "metadata": {
    "scrolled": false
   },
   "outputs": [
    {
     "name": "stdout",
     "output_type": "stream",
     "text": [
      "Processing temperature:  25\n",
      "RMS error for present value of gamma = 5.470000 (mV)\n",
      "The model created for this value of gamma is the best ESC model yet! GParam =  96.10953680127616\n",
      "RMS error for present value of gamma = 5.560000 (mV)\n",
      "RMS error for present value of gamma = 5.550000 (mV)\n",
      "RMS error for present value of gamma = 5.390000 (mV)\n",
      "The model created for this value of gamma is the best ESC model yet! GParam =  105.49422471880064\n",
      "RMS error for present value of gamma = 5.380000 (mV)\n",
      "The model created for this value of gamma is the best ESC model yet! GParam =  124.36190890173584\n",
      "RMS error for present value of gamma = 5.350000 (mV)\n",
      "The model created for this value of gamma is the best ESC model yet! GParam =  115.43182897292773\n",
      "RMS error for present value of gamma = 5.340000 (mV)\n",
      "The model created for this value of gamma is the best ESC model yet! GParam =  115.38090424672396\n",
      "RMS error for present value of gamma = 5.330000 (mV)\n",
      "The model created for this value of gamma is the best ESC model yet! GParam =  111.60452870293501\n",
      "RMS error for present value of gamma = 5.330000 (mV)\n",
      "The model created for this value of gamma is the best ESC model yet! GParam =  113.48021438214784\n",
      "RMS error for present value of gamma = 5.330000 (mV)\n",
      "RMS error for present value of gamma = 5.340000 (mV)\n",
      "RMS error for present value of gamma = 5.350000 (mV)\n",
      "RMS error for present value of gamma = 5.370000 (mV)\n",
      "RMS error for present value of gamma = 5.390000 (mV)\n",
      "RMS error for present value of gamma = 5.420000 (mV)\n",
      "RMS error for present value of gamma = 5.450000 (mV)\n",
      "RMS error for present value of gamma = 5.480000 (mV)\n",
      "Processing temperature:  5\n",
      "RMS error for present value of gamma = 9.570000 (mV)\n",
      "RMS error for present value of gamma = 9.750000 (mV)\n",
      "RMS error for present value of gamma = 9.550000 (mV)\n",
      "RMS error for present value of gamma = 9.520000 (mV)\n",
      "RMS error for present value of gamma = 9.470000 (mV)\n",
      "RMS error for present value of gamma = 9.450000 (mV)\n",
      "RMS error for present value of gamma = 9.450000 (mV)\n",
      "RMS error for present value of gamma = 9.460000 (mV)\n",
      "RMS error for present value of gamma = 9.480000 (mV)\n",
      "RMS error for present value of gamma = 9.510000 (mV)\n",
      "RMS error for present value of gamma = 9.540000 (mV)\n",
      "RMS error for present value of gamma = 9.580000 (mV)\n",
      "RMS error for present value of gamma = 9.620000 (mV)\n",
      "RMS error for present value of gamma = 9.670000 (mV)\n",
      "RMS error for present value of gamma = 9.730000 (mV)\n",
      "RMS error for present value of gamma = 9.860000 (mV)\n",
      "Processing temperature:  45\n",
      "RMS error for present value of gamma = 6.520000 (mV)\n",
      "RMS error for present value of gamma = 6.590000 (mV)\n",
      "RMS error for present value of gamma = 6.480000 (mV)\n",
      "RMS error for present value of gamma = 6.570000 (mV)\n",
      "RMS error for present value of gamma = 6.410000 (mV)\n",
      "RMS error for present value of gamma = 6.390000 (mV)\n",
      "RMS error for present value of gamma = 6.360000 (mV)\n",
      "RMS error for present value of gamma = 6.340000 (mV)\n",
      "RMS error for present value of gamma = 6.320000 (mV)\n",
      "RMS error for present value of gamma = 6.310000 (mV)\n",
      "RMS error for present value of gamma = 6.300000 (mV)\n",
      "RMS error for present value of gamma = 6.290000 (mV)\n",
      "RMS error for present value of gamma = 6.280000 (mV)\n",
      "RMS error for present value of gamma = 6.280000 (mV)\n",
      "RMS error for present value of gamma = 6.280000 (mV)\n",
      "RMS error for present value of gamma = 6.280000 (mV)\n",
      "RMS error for present value of gamma = 6.290000 (mV)\n"
     ]
    }
   ],
   "source": [
    "test.process_DYN_step3(1)"
   ]
  },
  {
   "cell_type": "code",
   "execution_count": 17,
   "metadata": {},
   "outputs": [
    {
     "data": {
      "text/plain": [
       "[<matplotlib.lines.Line2D at 0x7f903862f3d0>]"
      ]
     },
     "execution_count": 17,
     "metadata": {},
     "output_type": "execute_result"
    },
    {
     "data": {
      "image/png": "[encoded data removed]",
      "text/plain": [
       "<Figure size 432x288 with 1 Axes>"
      ]
     },
     "metadata": {
      "needs_background": "light"
     },
     "output_type": "display_data"
    }
   ],
   "source": [
    "plt.plot(test.model[25]['vest1'])"
   ]
  },
  {
   "cell_type": "code",
   "execution_count": 18,
   "metadata": {},
   "outputs": [
    {
     "data": {
      "text/plain": [
       "{'GParam': 0,\n",
       " 'RCParam': [0],\n",
       " 'Q': 14.414656461803379,\n",
       " 'eta': 0.9902808733940264,\n",
       " 'Z': array([1.        , 1.        , 1.        , ..., 0.06662466, 0.06662466,\n",
       "        0.06662466]),\n",
       " 'OCV': (array([4.15, 4.15, 4.15, ..., 3.4 , 3.4 , 3.4 ]),\n",
       "  array([2.80628877, 2.89831821, 2.97972307, 3.04331735, 3.09711404,\n",
       "         3.14442792, 3.18665405, 3.22432156, 3.2582482 , 3.28927056,\n",
       "         3.31750076, 3.34384071, 3.36802976, 3.39058162, 3.41143512,\n",
       "         3.43120472, 3.44950145, 3.46676953, 3.48295679, 3.4980954 ,\n",
       "         3.51228346, 3.52476894, 3.53393379, 3.53937038, 3.54246229,\n",
       "         3.54482229, 3.54730538, 3.54951028, 3.5519706 , 3.55427249,\n",
       "         3.5567669 , 3.55939734, 3.56214186, 3.56500547, 3.56824693,\n",
       "         3.57161342, 3.57524792, 3.57920596, 3.58362929, 3.58846357,\n",
       "         3.59363484, 3.59899042, 3.60495937, 3.61089248, 3.61714509,\n",
       "         3.62331193, 3.62944327, 3.63571963, 3.64191939, 3.64872303,\n",
       "         3.65558537, 3.66255619, 3.66889864, 3.67481831, 3.68078424,\n",
       "         3.68702814, 3.69381846, 3.7010685 , 3.70848339, 3.71561953,\n",
       "         3.72209959, 3.72768898, 3.7327276 , 3.73750777, 3.74240358,\n",
       "         3.74752688, 3.75278327, 3.7577627 , 3.76308444, 3.76830261,\n",
       "         3.77363413, 3.77859066, 3.78349085, 3.78813704, 3.79251017,\n",
       "         3.79634297, 3.80026569, 3.80392151, 3.80766643, 3.81107911,\n",
       "         3.81444153, 3.81766573, 3.82075881, 3.82385886, 3.82685779,\n",
       "         3.82980405, 3.83259127, 3.83538751, 3.83807498, 3.84062964,\n",
       "         3.84321034, 3.84570401, 3.84803337, 3.85057674, 3.85305715,\n",
       "         3.85525333, 3.85760716, 3.86002065, 3.8621907 , 3.8645113 ,\n",
       "         3.86675078, 3.86894733, 3.87093832, 3.87287078, 3.8749961 ,\n",
       "         3.8770285 , 3.87900142, 3.88083117, 3.88297418, 3.88493502,\n",
       "         3.8869129 , 3.8888221 , 3.8907278 , 3.89271393, 3.89475404,\n",
       "         3.89665813, 3.89871847, 3.90069183, 3.90278817, 3.90488526,\n",
       "         3.90694524, 3.90917605, 3.91132602, 3.9136112 , 3.91600742,\n",
       "         3.91846495, 3.92105544, 3.92380974, 3.9264704 , 3.92957529,\n",
       "         3.93308808, 3.93687605, 3.94111373, 3.94636988, 3.95210869,\n",
       "         3.95841652, 3.96477193, 3.97072392, 3.9759527 , 3.98044871,\n",
       "         3.98426653, 3.9881159 , 3.99126109, 3.99426803, 3.99731971,\n",
       "         4.0002842 , 4.00300778, 4.00592583, 4.00858052, 4.01121273,\n",
       "         4.01377628, 4.01638773, 4.01872852, 4.02109923, 4.02341591,\n",
       "         4.02569885, 4.02791475, 4.03005907, 4.03203345, 4.03414517,\n",
       "         4.03597109, 4.03788501, 4.03964101, 4.04123304, 4.0430932 ,\n",
       "         4.04480894, 4.04644002, 4.04814009, 4.04969711, 4.05142904,\n",
       "         4.05300427, 4.05485353, 4.05659955, 4.05819209, 4.06002386,\n",
       "         4.06179623, 4.0636173 , 4.06558048, 4.06753665, 4.06955352,\n",
       "         4.07163966, 4.07381474, 4.07618248, 4.07848959, 4.0811065 ,\n",
       "         4.0837111 , 4.08641815, 4.08925749, 4.09227596, 4.09548346,\n",
       "         4.09896271, 4.10268052, 4.106543  , 4.11052337, 4.11501604,\n",
       "         4.11958569, 4.12466926, 4.13002852, 4.1359341 , 4.14214831])),\n",
       " 'G': 95.87537467134425,\n",
       " 'vest1': array([4.15, 4.15, 4.15, ..., 3.4 , 3.4 , 3.4 ]),\n",
       " 'verr1': array([-0.00593891, -0.00593891, -0.00593891, ..., -0.03656621,\n",
       "        -0.03642693, -0.0364476 ]),\n",
       " 'current': array([-0., -0., -0., ..., -0., -0., -0.]),\n",
       " 'h': array([-0.        ,  0.        ,  0.        , ..., -0.41599013,\n",
       "        -0.41599013, -0.41599013]),\n",
       " 's': array([-0., -0., -0., ...,  1.,  1.,  1.]),\n",
       " 'corrected_current': array([-0., -0., -0., ..., -0., -0., -0.]),\n",
       " 'vrcRaw': array([[0.00000000e+00, 0.00000000e+00, 0.00000000e+00, ...,\n",
       "         5.34769978e-38, 4.13454725e-38, 3.19660446e-38]]),\n",
       " 'R0': 0.001146021692661928,\n",
       " 'M0': 0.0013102928392624343,\n",
       " 'M': 0.015224143233286387,\n",
       " 'RC': array([3.88668463-0.j]),\n",
       " 'Rfact': 0.0005611280629928048,\n",
       " 'test1': array([-0., -0., -0., ..., -0., -0., -0.]),\n",
       " 'test2': array([[0.00000000e+00, 0.00000000e+00, 0.00000000e+00, ...,\n",
       "         3.00074442e-41, 2.32001049e-41, 1.79370447e-41]]),\n",
       " 'vest2': array([4.15     , 4.15     , 4.15     , ..., 3.3949772, 3.3949772,\n",
       "        3.3949772]),\n",
       " 'verr2': array([-0.00593891, -0.00593891, -0.00593891, ..., -0.03154341,\n",
       "        -0.03140413, -0.0314248 ])}"
      ]
     },
     "execution_count": 18,
     "metadata": {},
     "output_type": "execute_result"
    }
   ],
   "source": [
    "test.model[45]"
   ]
  },
  {
   "cell_type": "code",
   "execution_count": 19,
   "metadata": {},
   "outputs": [],
   "source": [
    "# options=optimset('TolX',1e-8,'TolFun',1e-8,'MaxFunEval',100000, ...\n",
    "# 'MaxIter',1e6,'Jacobian','Off'); % for later optimization\n",
    "# options=optimset('TolX',0.1,'TolFun',1e-2,'MaxFunEval',40, ...\n",
    "# 'MaxIter',20,'Jacobian','Off'); % for later optimization"
   ]
  },
  {
   "cell_type": "code",
   "execution_count": 20,
   "metadata": {},
   "outputs": [],
   "source": [
    "def optfn(x):\n",
    "    return 150"
   ]
  },
  {
   "cell_type": "code",
   "execution_count": 21,
   "metadata": {},
   "outputs": [],
   "source": [
    "function = lambda x: optfn(x)"
   ]
  },
  {
   "cell_type": "code",
   "execution_count": 22,
   "metadata": {},
   "outputs": [],
   "source": [
    "#scipy.optimize.brentq(function,-1,1,xtol=0.0000001)"
   ]
  },
  {
   "cell_type": "code",
   "execution_count": 23,
   "metadata": {},
   "outputs": [
    {
     "name": "stdout",
     "output_type": "stream",
     "text": [
      "Optimization terminated successfully.\n",
      "         Current function value: 150.000000\n",
      "         Iterations: 18\n",
      "         Function evaluations: 71\n"
     ]
    },
    {
     "data": {
      "text/plain": [
       "array([  1., 250.])"
      ]
     },
     "execution_count": 23,
     "metadata": {},
     "output_type": "execute_result"
    }
   ],
   "source": [
    "scipy.optimize.fmin(function,[1,250])"
   ]
  },
  {
   "cell_type": "code",
   "execution_count": 24,
   "metadata": {},
   "outputs": [],
   "source": [
    "from oct2py import octave"
   ]
  },
  {
   "cell_type": "code",
   "execution_count": 25,
   "metadata": {},
   "outputs": [
    {
     "data": {
      "text/plain": [
       "249.99998793209343"
      ]
     },
     "execution_count": 25,
     "metadata": {},
     "output_type": "execute_result"
    }
   ],
   "source": [
    "scipy.optimize.fminbound(function,1,250)"
   ]
  },
  {
   "cell_type": "code",
   "execution_count": null,
   "metadata": {},
   "outputs": [],
   "source": []
  },
  {
   "cell_type": "code",
   "execution_count": 26,
   "metadata": {},
   "outputs": [],
   "source": [
    "#octave.fminbnd('@(x) optfn(x)',1,250)"
   ]
  },
  {
   "cell_type": "code",
   "execution_count": null,
   "metadata": {},
   "outputs": [],
   "source": []
  }
 ],
 "metadata": {
  "kernelspec": {
   "display_name": "Python 3",
   "language": "python",
   "name": "python3"
  },
  "language_info": {
   "codemirror_mode": {
    "name": "ipython",
    "version": 3
   },
   "file_extension": ".py",
   "mimetype": "text/x-python",
   "name": "python",
   "nbconvert_exporter": "python",
   "pygments_lexer": "ipython3",
   "version": "3.7.4"
  }
 },
 "nbformat": 4,
 "nbformat_minor": 2
}
