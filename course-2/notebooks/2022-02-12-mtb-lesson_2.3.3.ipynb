{
 "cells": [
  {
   "cell_type": "code",
   "execution_count": 1,
   "metadata": {},
   "outputs": [],
   "source": [
    "import scipy.io\n",
    "import matplotlib.pyplot as plt\n",
    "import pandas as pd\n",
    "import numpy as np\n",
    "from scipy.interpolate import interp1d\n",
    "from joblib import load,dump\n",
    "\n",
    "import sys\n",
    "sys.path.insert(0,'../scripts/')\n",
    "from processDynamic import processDynamic"
   ]
  },
  {
   "cell_type": "code",
   "execution_count": 2,
   "metadata": {},
   "outputs": [],
   "source": [
    "# # I saved my own model data as pickle files, but may not need\n",
    "# model_output = load('../data/p14model-ocv.pkl')\n",
    "# model_data = load('../data/p14model-data.pkl')"
   ]
  },
  {
   "cell_type": "code",
   "execution_count": 3,
   "metadata": {},
   "outputs": [],
   "source": [
    "# Note, had to resave this data in Octave like so: save -mat7-binary 'file.mat' model\n",
    "#data = scipy.io.loadmat('../data/P14model-ocv-mat7.mat', simplify_cells=True)"
   ]
  },
  {
   "cell_type": "code",
   "execution_count": 4,
   "metadata": {},
   "outputs": [],
   "source": [
    "#data['model']['model'].keys()"
   ]
  },
  {
   "cell_type": "code",
   "execution_count": 5,
   "metadata": {},
   "outputs": [],
   "source": [
    "test = processDynamic(model_dir='../data/')"
   ]
  },
  {
   "cell_type": "code",
   "execution_count": 6,
   "metadata": {},
   "outputs": [],
   "source": [
    "test.load_data()"
   ]
  },
  {
   "cell_type": "code",
   "execution_count": 7,
   "metadata": {},
   "outputs": [],
   "source": [
    "#plt.plot(test.data[5]['script1']['time'],test.data[5]['script1']['current'])"
   ]
  },
  {
   "cell_type": "code",
   "execution_count": 8,
   "metadata": {},
   "outputs": [
    {
     "name": "stdout",
     "output_type": "stream",
     "text": [
      "25 14.531852290290429\n",
      "5 14.482598404517704\n",
      "45 14.414656461803379\n"
     ]
    }
   ],
   "source": [
    "test.process_DYN_step1()"
   ]
  },
  {
   "cell_type": "code",
   "execution_count": 9,
   "metadata": {},
   "outputs": [
    {
     "ename": "ValueError",
     "evalue": "shape mismatch: value array of shape (33460,) could not be broadcast to indexing result of shape (11532,)",
     "output_type": "error",
     "traceback": [
      "\u001b[0;31m---------------------------------------------------------------------------\u001b[0m",
      "\u001b[0;31mValueError\u001b[0m                                Traceback (most recent call last)",
      "\u001b[0;32m<ipython-input-9-e959cecf4b63>\u001b[0m in \u001b[0;36m<module>\u001b[0;34m\u001b[0m\n\u001b[0;32m----> 1\u001b[0;31m \u001b[0mtest\u001b[0m\u001b[0;34m.\u001b[0m\u001b[0mprocess_DYN_step2\u001b[0m\u001b[0;34m(\u001b[0m\u001b[0;34m)\u001b[0m\u001b[0;34m\u001b[0m\u001b[0;34m\u001b[0m\u001b[0m\n\u001b[0m",
      "\u001b[0;32m~/github/bms-specialization/course-2/scripts/processDynamic.py\u001b[0m in \u001b[0;36mprocess_DYN_step2\u001b[0;34m(self)\u001b[0m\n\u001b[1;32m    141\u001b[0m             \u001b[0mcharge_indices\u001b[0m \u001b[0;34m=\u001b[0m \u001b[0mnp\u001b[0m\u001b[0;34m.\u001b[0m\u001b[0mwhere\u001b[0m\u001b[0;34m(\u001b[0m\u001b[0mself\u001b[0m\u001b[0;34m.\u001b[0m\u001b[0mdata\u001b[0m\u001b[0;34m[\u001b[0m\u001b[0mtemp\u001b[0m\u001b[0;34m]\u001b[0m\u001b[0;34m[\u001b[0m\u001b[0;34m'script1'\u001b[0m\u001b[0;34m]\u001b[0m\u001b[0;34m[\u001b[0m\u001b[0;34m'current'\u001b[0m\u001b[0;34m]\u001b[0m \u001b[0;34m<\u001b[0m \u001b[0;36m0\u001b[0m\u001b[0;34m)\u001b[0m\u001b[0;34m\u001b[0m\u001b[0;34m\u001b[0m\u001b[0m\n\u001b[1;32m    142\u001b[0m             \u001b[0mcorrected_current\u001b[0m \u001b[0;34m=\u001b[0m \u001b[0mself\u001b[0m\u001b[0;34m.\u001b[0m\u001b[0mdata\u001b[0m\u001b[0;34m[\u001b[0m\u001b[0mtemp\u001b[0m\u001b[0;34m]\u001b[0m\u001b[0;34m[\u001b[0m\u001b[0;34m'script1'\u001b[0m\u001b[0;34m]\u001b[0m\u001b[0;34m[\u001b[0m\u001b[0;34m'current'\u001b[0m\u001b[0;34m]\u001b[0m\u001b[0;34m\u001b[0m\u001b[0;34m\u001b[0m\u001b[0m\n\u001b[0;32m--> 143\u001b[0;31m             \u001b[0mcorrected_current\u001b[0m\u001b[0;34m[\u001b[0m\u001b[0mcharge_indices\u001b[0m\u001b[0;34m]\u001b[0m \u001b[0;34m=\u001b[0m \u001b[0meta_param\u001b[0m\u001b[0;34m*\u001b[0m\u001b[0mcorrected_current\u001b[0m\u001b[0;34m\u001b[0m\u001b[0;34m\u001b[0m\u001b[0m\n\u001b[0m\u001b[1;32m    144\u001b[0m \u001b[0;34m\u001b[0m\u001b[0m\n\u001b[1;32m    145\u001b[0m             \u001b[0mself\u001b[0m\u001b[0;34m.\u001b[0m\u001b[0mmodel\u001b[0m\u001b[0;34m[\u001b[0m\u001b[0mtemp\u001b[0m\u001b[0;34m]\u001b[0m\u001b[0;34m[\u001b[0m\u001b[0;34m'Z'\u001b[0m\u001b[0;34m]\u001b[0m \u001b[0;34m=\u001b[0m \u001b[0;36m1\u001b[0m \u001b[0;34m-\u001b[0m \u001b[0;34m(\u001b[0m\u001b[0mnp\u001b[0m\u001b[0;34m.\u001b[0m\u001b[0mcumsum\u001b[0m\u001b[0;34m(\u001b[0m\u001b[0mcorrected_current\u001b[0m\u001b[0;34m)\u001b[0m\u001b[0;34m*\u001b[0m\u001b[0;34m(\u001b[0m\u001b[0;36m1\u001b[0m\u001b[0;34m/\u001b[0m\u001b[0mself\u001b[0m\u001b[0;34m.\u001b[0m\u001b[0mmodel\u001b[0m\u001b[0;34m[\u001b[0m\u001b[0mtemp\u001b[0m\u001b[0;34m]\u001b[0m\u001b[0;34m[\u001b[0m\u001b[0;34m'Q'\u001b[0m\u001b[0;34m]\u001b[0m\u001b[0;34m*\u001b[0m\u001b[0;36m3600\u001b[0m\u001b[0;34m)\u001b[0m\u001b[0;34m)\u001b[0m\u001b[0;34m\u001b[0m\u001b[0;34m\u001b[0m\u001b[0m\n",
      "\u001b[0;31mValueError\u001b[0m: shape mismatch: value array of shape (33460,) could not be broadcast to indexing result of shape (11532,)"
     ]
    }
   ],
   "source": [
    "test.process_DYN_step2()"
   ]
  },
  {
   "cell_type": "code",
   "execution_count": 11,
   "metadata": {},
   "outputs": [
    {
     "data": {
      "text/plain": [
       "{'Q': 14.482598404517704, 'eta': 0.9874053548391215}"
      ]
     },
     "execution_count": 11,
     "metadata": {},
     "output_type": "execute_result"
    }
   ],
   "source": [
    "test.model[5]"
   ]
  },
  {
   "cell_type": "code",
   "execution_count": 10,
   "metadata": {},
   "outputs": [
    {
     "data": {
      "text/plain": [
       "{'script1': {'rawTime': array([   60.00760673,   120.01999502,   180.03245408, ...,\n",
       "         42458.93850697, 42459.95243118, 42460.84167311]),\n",
       "  'time': array([ 6901.0185148,  6902.0185148,  6903.0185148, ..., 42458.0185148,\n",
       "         42459.0185148, 42460.0185148]),\n",
       "  'rawStep': array([1, 1, 1, ..., 8, 8, 8], dtype=uint8),\n",
       "  'step': array([1, 1, 1, ..., 8, 8, 8], dtype=uint8),\n",
       "  'rawCurrent': array([0., 0., 0., ..., 0., 0., 0.]),\n",
       "  'current': array([-0., -0., -0., ..., -0., -0., -0.]),\n",
       "  'rawVoltage': array([4.14778471, 4.14778471, 4.14778471, ..., 3.34867883, 3.34867883,\n",
       "         3.34884071]),\n",
       "  'voltage': array([4.14746094, 4.14746094, 4.14746094, ..., 3.34882571, 3.34867883,\n",
       "         3.34869086]),\n",
       "  'rawChgAh': array([ 0.        ,  0.        ,  0.        , ..., 11.84536513,\n",
       "         11.84536513, 11.84536513]),\n",
       "  'chgAh': array([ 0.        ,  0.        ,  0.        , ..., 11.84536513,\n",
       "         11.84536513, 11.84536513]),\n",
       "  'rawDisAh': array([ 0.        ,  0.        ,  0.        , ..., 25.28089982,\n",
       "         25.28089982, 25.28089982]),\n",
       "  'disAh': array([ 0.        ,  0.        ,  0.        , ..., 25.28089982,\n",
       "         25.28089982, 25.28089982])},\n",
       " 'script2': {'rawTime': array([   60.00176844,   120.01420379,   180.02666993, ...,\n",
       "         42215.69335665, 42216.70730776, 42217.59653057]),\n",
       "  'time': array([   60.00176844,    61.00176844,    62.00176844, ...,\n",
       "         19520.00176844, 19521.00176844, 19522.00176844]),\n",
       "  'rawStep': array([ 1,  1,  1, ..., 21, 21, 21], dtype=uint8),\n",
       "  'step': array([ 1,  1,  1, ..., 10, 10, 10], dtype=uint8),\n",
       "  'rawCurrent': array([0., 0., 0., ..., 0., 0., 0.]),\n",
       "  'current': array([-0.        , -0.        , -0.        , ..., -0.2157204 ,\n",
       "         -0.33632798, -0.39937294]),\n",
       "  'rawVoltage': array([3.39158058, 3.39093304, 3.39028549, ..., 4.15069866, 4.15102243,\n",
       "         4.15086079]),\n",
       "  'voltage': array([3.39158058, 3.39156979, 3.391559  , ..., 2.795148  , 2.79641485,\n",
       "         2.79723017]),\n",
       "  'rawChgAh': array([ 0.        ,  0.        ,  0.        , ..., 18.54609826,\n",
       "         18.54609826, 18.54609826]),\n",
       "  'chgAh': array([0.        , 0.        , 0.        , ..., 0.59451668, 0.59462615,\n",
       "         0.59475605]),\n",
       "  'rawDisAh': array([0.        , 0.        , 0.        , ..., 4.72672132, 4.72672132,\n",
       "         4.72672132]),\n",
       "  'disAh': array([0.        , 0.        , 0.        , ..., 1.53012358, 1.53012358,\n",
       "         1.53012358])},\n",
       " 'script3': {'time': array([19523.00176844, 19524.00176844, 19525.00176844, ...,\n",
       "         42215.00176844, 42216.00176844, 42217.00176844]),\n",
       "  'voltage': array([2.81469173, 2.82532392, 2.83104847, ..., 4.15091949, 4.15079714,\n",
       "         4.15096891]),\n",
       "  'current': array([-3.8533685 , -5.00204991, -5.00312519, ..., -0.        ,\n",
       "         -0.        , -0.        ]),\n",
       "  'chgAh': array([0.00000000e+00, 1.38897980e-03, 2.77803071e-03, ...,\n",
       "         1.79502560e+01, 1.79502560e+01, 1.79502560e+01]),\n",
       "  'disAh': array([0.        , 0.        , 0.        , ..., 3.19659774, 3.19659774,\n",
       "         3.19659774]),\n",
       "  'step': array([11, 11, 11, ..., 21, 21, 21], dtype=uint8)}}"
      ]
     },
     "execution_count": 10,
     "metadata": {},
     "output_type": "execute_result"
    }
   ],
   "source": [
    "test.data[5]"
   ]
  },
  {
   "cell_type": "code",
   "execution_count": null,
   "metadata": {},
   "outputs": [],
   "source": []
  }
 ],
 "metadata": {
  "kernelspec": {
   "display_name": "Python 3",
   "language": "python",
   "name": "python3"
  },
  "language_info": {
   "codemirror_mode": {
    "name": "ipython",
    "version": 3
   },
   "file_extension": ".py",
   "mimetype": "text/x-python",
   "name": "python",
   "nbconvert_exporter": "python",
   "pygments_lexer": "ipython3",
   "version": "3.7.4"
  }
 },
 "nbformat": 4,
 "nbformat_minor": 2
}
