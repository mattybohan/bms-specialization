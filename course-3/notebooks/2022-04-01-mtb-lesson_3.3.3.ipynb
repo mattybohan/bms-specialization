{
 "cells": [
  {
   "cell_type": "code",
   "execution_count": 74,
   "metadata": {},
   "outputs": [],
   "source": [
    "import numpy as np\n",
    "import matplotlib.pyplot as plt"
   ]
  },
  {
   "cell_type": "markdown",
   "metadata": {},
   "source": [
    "### Octave code to simulate linear Kalman filter for simple example\n",
    "This code simulates the example introduced in lesson 3.3.3 and is a straightforward implementation of the six Kalman-filter steps on a simple model. You will use this code to answer the practice-quiz questions for this lesson. Feel free to add your own statements to plot or output variables computed by the filter to help you understand better how it works."
   ]
  },
  {
   "cell_type": "code",
   "execution_count": 4,
   "metadata": {},
   "outputs": [],
   "source": [
    "sigma_w = 1 # process noise covariance\n",
    "sigma_v = 1 # process noise covariance\n",
    "A = 1\n",
    "B = 1 \n",
    "C = 1\n",
    "D = 0  # plant definition matrices\n",
    "max_iter = 40"
   ]
  },
  {
   "cell_type": "code",
   "execution_count": 41,
   "metadata": {},
   "outputs": [],
   "source": [
    "sigma_w = np.array(sigma_w)\n",
    "sigma_v = np.array(sigma_v)\n",
    "A = np.array(A)\n",
    "B = np.array(B)\n",
    "C = np.array(C)\n",
    "D = np.array(D)"
   ]
  },
  {
   "cell_type": "code",
   "execution_count": 27,
   "metadata": {},
   "outputs": [],
   "source": [
    "# Initialize true state, state estimate, error covariance, initial input\n",
    "\n",
    "xtrue = np.array((0))  # Initialize true system initial state\n",
    "xhat = 0   # Initialize Kalman filter initial estimate\n",
    "sigma_x = 0 # Initialize Kalman filter covariance\n",
    "u = 0      # Unknown initial driving input: assume zero"
   ]
  },
  {
   "cell_type": "code",
   "execution_count": 42,
   "metadata": {},
   "outputs": [],
   "source": [
    "xstore = np.zeros((max_iter+1,1))\n",
    "xstore[:,0] = 0\n",
    "\n",
    "xhatstore = np.zeros((max_iter,1))\n",
    "sigma_xstore = np.zeros((max_iter,1**2))"
   ]
  },
  {
   "cell_type": "code",
   "execution_count": 70,
   "metadata": {},
   "outputs": [
    {
     "name": "stdout",
     "output_type": "stream",
     "text": [
      "[1.34564107]\n",
      "[0.41143775]\n",
      "[0.19233287]\n",
      "[1.54881553]\n",
      "[0.26598793]\n",
      "[-0.39227752]\n",
      "[-0.12028556]\n",
      "[0.08978103]\n",
      "[-0.28670862]\n",
      "[-0.24379546]\n",
      "[-1.13062852]\n",
      "[-0.95048454]\n",
      "[-0.49610867]\n",
      "[-0.86838292]\n",
      "[-0.20355614]\n",
      "[-0.50908579]\n",
      "[1.50937948]\n",
      "[1.05031024]\n",
      "[0.19816959]\n",
      "[1.57913614]\n",
      "[0.47534001]\n",
      "[1.19210118]\n",
      "[0.62730028]\n",
      "[0.64880848]\n",
      "[0.04573939]\n",
      "[0.30520536]\n",
      "[-0.58100562]\n",
      "[-1.36838794]\n",
      "[-0.39962402]\n",
      "[-0.53782834]\n",
      "[-0.84405844]\n",
      "[-1.55433349]\n",
      "[-0.27648706]\n",
      "[-0.19635497]\n",
      "[0.22867933]\n",
      "[0.45785984]\n",
      "[1.518353]\n",
      "[0.44071031]\n",
      "[1.02332099]\n",
      "[1.37230231]\n"
     ]
    }
   ],
   "source": [
    "test = np.arange(0,40,1.)\n",
    "\n",
    "for k in range(max_iter):\n",
    "    \n",
    "    # KF Step 1: State estimate time update\n",
    "    xhat = A*xhat + B*u # use prior value of u\n",
    "    \n",
    "    # KF Step 2: Error covariance time update\n",
    "    sigma_x = A*sigma_x*A.T + sigma_w \n",
    "    \n",
    "    # Implied operation of system in background, with input signal u, output signal z\n",
    "    u = 0.5*np.random.randn(1) + np.cos(k/np.pi)"
   ]
  },
  {
   "cell_type": "code",
   "execution_count": 75,
   "metadata": {},
   "outputs": [
    {
     "data": {
      "text/plain": [
       "[<matplotlib.lines.Line2D at 0x7f7e54e49210>]"
      ]
     },
     "execution_count": 75,
     "metadata": {},
     "output_type": "execute_result"
    },
    {
     "data": {
      "image/png": "[encoded data removed]",
      "text/plain": [
       "<Figure size 432x288 with 1 Axes>"
      ]
     },
     "metadata": {
      "needs_background": "light"
     },
     "output_type": "display_data"
    }
   ],
   "source": [
    "plt.plot(test)"
   ]
  },
  {
   "cell_type": "code",
   "execution_count": null,
   "metadata": {},
   "outputs": [],
   "source": []
  }
 ],
 "metadata": {
  "kernelspec": {
   "display_name": "Python 3",
   "language": "python",
   "name": "python3"
  },
  "language_info": {
   "codemirror_mode": {
    "name": "ipython",
    "version": 3
   },
   "file_extension": ".py",
   "mimetype": "text/x-python",
   "name": "python",
   "nbconvert_exporter": "python",
   "pygments_lexer": "ipython3",
   "version": "3.7.4"
  }
 },
 "nbformat": 4,
 "nbformat_minor": 2
}
