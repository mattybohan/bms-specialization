{
 "cells": [
  {
   "cell_type": "markdown",
   "metadata": {},
   "source": [
    "## Voltage-based SOC estimation\n",
    "This notebook implements two voltage-based SOC-estimation methods. The first one simply looks up cell terminal voltage under load in an OCV from SOC table. The second attempts to compensate for the effects of cell equivalent-series resistance."
   ]
  },
  {
   "cell_type": "code",
   "execution_count": 1,
   "metadata": {},
   "outputs": [],
   "source": [
    "import scipy.io"
   ]
  },
  {
   "cell_type": "code",
   "execution_count": 4,
   "metadata": {},
   "outputs": [],
   "source": [
    "model = scipy.io.loadmat('../data/CellModel.mat', simplify_cells=True)['model']"
   ]
  },
  {
   "cell_type": "code",
   "execution_count": 6,
   "metadata": {},
   "outputs": [
    {
     "data": {
      "text/plain": [
       "dict_keys(['name', 'OCV0', 'OCVrel', 'SOC', 'OCV', 'SOC0', 'SOCrel', 'dOCV0', 'dOCVrel', 'temps', 'QParam', 'RCParam', 'RParam', 'GParam', 'Z0Param', 'R0Param', 'MParam'])"
      ]
     },
     "execution_count": 6,
     "metadata": {},
     "output_type": "execute_result"
    }
   ],
   "source": [
    "model.keys()"
   ]
  },
  {
   "cell_type": "code",
   "execution_count": 7,
   "metadata": {},
   "outputs": [],
   "source": [
    "data = scipy.io.loadmat('../data/CellData.mat', simplify_cells=True)"
   ]
  },
  {
   "cell_type": "code",
   "execution_count": 8,
   "metadata": {},
   "outputs": [
    {
     "data": {
      "text/plain": [
       "{'__header__': b'MATLAB 5.0 MAT-file, Platform: MACI64, Created on: Sat Feb 16 06:25:50 2013',\n",
       " '__version__': '1.0',\n",
       " '__globals__': [],\n",
       " 'time': array([    0,     1,     2, ..., 28507, 28508, 28509], dtype=uint16),\n",
       " 'current': array([0., 0., 0., ..., 0., 0., 0.]),\n",
       " 'voltage': array([4.17097378, 4.17158365, 4.17127848, ..., 3.57249636, 3.57273161,\n",
       "        3.57231741]),\n",
       " 'soc': array([1.        , 1.        , 1.        , ..., 0.05997534, 0.05997534,\n",
       "        0.05997534])}"
      ]
     },
     "execution_count": 8,
     "metadata": {},
     "output_type": "execute_result"
    }
   ],
   "source": [
    "data"
   ]
  },
  {
   "cell_type": "code",
   "execution_count": null,
   "metadata": {},
   "outputs": [],
   "source": []
  }
 ],
 "metadata": {
  "kernelspec": {
   "display_name": "Python 3",
   "language": "python",
   "name": "python3"
  },
  "language_info": {
   "codemirror_mode": {
    "name": "ipython",
    "version": 3
   },
   "file_extension": ".py",
   "mimetype": "text/x-python",
   "name": "python",
   "nbconvert_exporter": "python",
   "pygments_lexer": "ipython3",
   "version": "3.7.4"
  }
 },
 "nbformat": 4,
 "nbformat_minor": 2
}
